{
 "cells": [
  {
   "cell_type": "markdown",
   "metadata": {},
   "source": [
    "# Collaboration and Competition\n",
    "\n",
    "---\n",
    "\n",
    "You are welcome to use this coding environment to train your agent for the project.  Follow the instructions below to get started!\n",
    "\n",
    "### 1. Start the Environment\n",
    "\n",
    "Run the next code cell to install a few packages.  This line will take a few minutes to run!"
   ]
  },
  {
   "cell_type": "code",
   "execution_count": 1,
   "metadata": {},
   "outputs": [
    {
     "name": "stdout",
     "output_type": "stream",
     "text": [
      "\u001b[31mtensorflow 1.7.1 has requirement numpy>=1.13.3, but you'll have numpy 1.12.1 which is incompatible.\u001b[0m\r\n",
      "\u001b[31mipython 6.5.0 has requirement prompt-toolkit<2.0.0,>=1.0.15, but you'll have prompt-toolkit 3.0.5 which is incompatible.\u001b[0m\r\n"
     ]
    }
   ],
   "source": [
    "!pip -q install ./python"
   ]
  },
  {
   "cell_type": "markdown",
   "metadata": {},
   "source": [
    "The environment is already saved in the Workspace and can be accessed at the file path provided below. "
   ]
  },
  {
   "cell_type": "code",
   "execution_count": 2,
   "metadata": {},
   "outputs": [
    {
     "name": "stderr",
     "output_type": "stream",
     "text": [
      "INFO:unityagents:\n",
      "'Academy' started successfully!\n",
      "Unity Academy name: Academy\n",
      "        Number of Brains: 1\n",
      "        Number of External Brains : 1\n",
      "        Lesson number : 0\n",
      "        Reset Parameters :\n",
      "\t\t\n",
      "Unity brain name: TennisBrain\n",
      "        Number of Visual Observations (per agent): 0\n",
      "        Vector Observation space type: continuous\n",
      "        Vector Observation space size (per agent): 8\n",
      "        Number of stacked Vector Observation: 3\n",
      "        Vector Action space type: continuous\n",
      "        Vector Action space size (per agent): 2\n",
      "        Vector Action descriptions: , \n"
     ]
    }
   ],
   "source": [
    "from unityagents import UnityEnvironment\n",
    "import numpy as np\n",
    "\n",
    "env = UnityEnvironment(file_name=\"/data/Tennis_Linux_NoVis/Tennis\")"
   ]
  },
  {
   "cell_type": "markdown",
   "metadata": {},
   "source": [
    "Environments contain **_brains_** which are responsible for deciding the actions of their associated agents. Here we check for the first brain available, and set it as the default brain we will be controlling from Python."
   ]
  },
  {
   "cell_type": "code",
   "execution_count": 3,
   "metadata": {},
   "outputs": [],
   "source": [
    "# get the default brain\n",
    "brain_name = env.brain_names[0]\n",
    "brain = env.brains[brain_name]"
   ]
  },
  {
   "cell_type": "markdown",
   "metadata": {},
   "source": [
    "### 2. Examine the State and Action Spaces\n",
    "\n",
    "Run the code cell below to print some information about the environment."
   ]
  },
  {
   "cell_type": "code",
   "execution_count": 4,
   "metadata": {},
   "outputs": [
    {
     "name": "stdout",
     "output_type": "stream",
     "text": [
      "Number of agents: 2\n",
      "Size of each action: 2\n",
      "There are 2 agents. Each observes a state with length: 24\n",
      "The state for the first agent looks like: [ 0.          0.          0.          0.          0.          0.          0.\n",
      "  0.          0.          0.          0.          0.          0.          0.\n",
      "  0.          0.         -6.65278625 -1.5        -0.          0.\n",
      "  6.83172083  6.         -0.          0.        ]\n"
     ]
    }
   ],
   "source": [
    "# reset the environment\n",
    "env_info = env.reset(train_mode=True)[brain_name]\n",
    "\n",
    "# number of agents \n",
    "num_agents = len(env_info.agents)\n",
    "print('Number of agents:', num_agents)\n",
    "\n",
    "# size of each action\n",
    "action_size = brain.vector_action_space_size\n",
    "print('Size of each action:', action_size)\n",
    "\n",
    "# examine the state space \n",
    "states = env_info.vector_observations\n",
    "state_size = states.shape[1]\n",
    "print('There are {} agents. Each observes a state with length: {}'.format(states.shape[0], state_size))\n",
    "print('The state for the first agent looks like:', states[0])"
   ]
  },
  {
   "cell_type": "markdown",
   "metadata": {},
   "source": [
    "### 3. Take Random Actions in the Environment\n",
    "\n",
    "In the next code cell, you will learn how to use the Python API to control the agent and receive feedback from the environment.\n",
    "\n",
    "Note that **in this coding environment, you will not be able to watch the agents while they are training**, and you should set `train_mode=True` to restart the environment."
   ]
  },
  {
   "cell_type": "code",
   "execution_count": null,
   "metadata": {
    "scrolled": true
   },
   "outputs": [],
   "source": [
    "for i in range(5):                                         # play game for 5 episodes\n",
    "    env_info = env.reset(train_mode=False)[brain_name]     # reset the environment    \n",
    "    states = env_info.vector_observations                  # get the current state (for each agent)\n",
    "    scores = np.zeros(num_agents)                          # initialize the score (for each agent)\n",
    "    while True:\n",
    "        actions = np.random.randn(num_agents, action_size) # select an action (for each agent)\n",
    "        actions = np.clip(actions, -1, 1)                  # all actions between -1 and 1\n",
    "        env_info = env.step(actions)[brain_name]           # send all actions to tne environment\n",
    "        next_states = env_info.vector_observations         # get next state (for each agent)\n",
    "        rewards = env_info.rewards                         # get reward (for each agent)\n",
    "        dones = env_info.local_done                        # see if episode finished\n",
    "        scores += env_info.rewards                         # update the score (for each agent)\n",
    "        states = next_states                               # roll over states to next time step\n",
    "        if np.any(dones):                                  # exit loop if episode finished\n",
    "            break\n",
    "    print('Total score (averaged over agents) this episode: {}'.format(np.mean(scores)))"
   ]
  },
  {
   "cell_type": "markdown",
   "metadata": {},
   "source": [
    "When finished, you can close the environment."
   ]
  },
  {
   "cell_type": "code",
   "execution_count": null,
   "metadata": {},
   "outputs": [],
   "source": [
    "#env.close()"
   ]
  },
  {
   "cell_type": "markdown",
   "metadata": {},
   "source": [
    "### 4. It's Your Turn!\n",
    "\n",
    "Now it's your turn to train your own agent to solve the environment!  A few **important notes**:\n",
    "- When training the environment, set `train_mode=True`, so that the line for resetting the environment looks like the following:\n",
    "```python\n",
    "env_info = env.reset(train_mode=True)[brain_name]\n",
    "```\n",
    "- To structure your work, you're welcome to work directly in this Jupyter notebook, or you might like to start over with a new file!  You can see the list of files in the workspace by clicking on **_Jupyter_** in the top left corner of the notebook.\n",
    "- In this coding environment, you will not be able to watch the agents while they are training.  However, **_after training the agents_**, you can download the saved model weights to watch the agents on your own machine! "
   ]
  },
  {
   "cell_type": "code",
   "execution_count": 5,
   "metadata": {},
   "outputs": [],
   "source": [
    "from collections import deque\n",
    "import torch\n",
    "import matplotlib.pyplot as plt\n",
    "%matplotlib inline\n",
    "\n",
    "from ddpg_agent import Agent"
   ]
  },
  {
   "cell_type": "code",
   "execution_count": 6,
   "metadata": {},
   "outputs": [],
   "source": [
    "agent = Agent(state_size, action_size, random_seed = 2312)"
   ]
  },
  {
   "cell_type": "code",
   "execution_count": 7,
   "metadata": {},
   "outputs": [],
   "source": [
    "def ddpg(n_episodes=600, max_t=2000,print_every=10):\n",
    "    \n",
    "    scores_window = deque(maxlen=100)\n",
    "    mean_scores = []\n",
    "    max_score = -np.Inf\n",
    "    \n",
    "    for i_episode in range(1, n_episodes+1):\n",
    "        env_info = env.reset(train_mode=True)[brain_name]      # reset the environment   \n",
    "        states = env_info.vector_observations                  # get current state for each observations\n",
    "        scores = np.zeros(num_agents)                          # initialize score for each agent\n",
    "        \n",
    "        agent.reset()\n",
    "        \n",
    "        for t in range(max_t):\n",
    "            actions = agent.act(states)\n",
    "            env_info = env.step(actions)[brain_name]        # send the action to the environment\n",
    "            next_states = env_info.vector_observations      # get the next state\n",
    "            rewards = env_info.rewards                      # get the reward\n",
    "            dones = env_info.local_done                     # see if episode has finished\n",
    " \n",
    "            for state, action, reward, next_state, done in zip(states, actions, rewards, next_states, dones):\n",
    "                agent.step(state, action, reward, next_state, done)\n",
    "        \n",
    "            states = next_states                             # roll over the state to next time step\n",
    "            scores += rewards                                # update the score\n",
    "    \n",
    "            if np.any(dones):                                # exit loop if episode finished\n",
    "                break\n",
    "        mean_scores.append(np.mean(scores))                  # save mean score for each episode\n",
    "        scores_window.append(mean_scores[-1])                # save mean score to window\n",
    "        \n",
    "        print('\\rEpisode {}\\tScore: {:.4f}\\tAverage Score: {:.4f}'.format(i_episode,np.mean(scores), np.mean(scores_window)), end=\"\")\n",
    "        if i_episode % print_every == 0:\n",
    "            print('\\nEpisode {}\\tScore: {:.4f}\\tAverage Score: {:.4f}'.format(i_episode,np.mean(scores), np.mean(scores_window)), end=\"\")\n",
    "        if np.mean(scores_window)>=0.5:\n",
    "            print('\\nEnvironment solved in {:d} episodes!\\tAverage Score: {:.4f}'.format(i_episode-100, np.mean(scores_window)))\n",
    "            torch.save(agent.actor_local.state_dict(), 'actor_checkpoint.pth')\n",
    "            torch.save(agent.critic_local.state_dict(), 'critic_checkpoint.pth')         \n",
    "            \n",
    "    return mean_scores"
   ]
  },
  {
   "cell_type": "code",
   "execution_count": 8,
   "metadata": {},
   "outputs": [
    {
     "name": "stdout",
     "output_type": "stream",
     "text": [
      "Episode 10\tScore: -0.0050\tAverage Score: -0.0050\n",
      "Episode 20\tScore: -0.0050\tAverage Score: -0.0050\n",
      "Episode 30\tScore: -0.0050\tAverage Score: -0.0050\n",
      "Episode 40\tScore: -0.0050\tAverage Score: -0.0050\n",
      "Episode 50\tScore: -0.0050\tAverage Score: -0.0050\n",
      "Episode 60\tScore: -0.0050\tAverage Score: -0.0050\n",
      "Episode 70\tScore: -0.0050\tAverage Score: -0.0050\n",
      "Episode 80\tScore: -0.0050\tAverage Score: -0.0050\n",
      "Episode 90\tScore: -0.0050\tAverage Score: -0.0050\n",
      "Episode 100\tScore: -0.0050\tAverage Score: -0.0050\n",
      "Episode 110\tScore: -0.0050\tAverage Score: -0.0050\n",
      "Episode 120\tScore: -0.0050\tAverage Score: -0.0050\n",
      "Episode 130\tScore: 0.0450\tAverage Score: -0.00300\n",
      "Episode 140\tScore: 0.0450\tAverage Score: -0.00105\n",
      "Episode 150\tScore: -0.0050\tAverage Score: 0.00055\n",
      "Episode 160\tScore: -0.0050\tAverage Score: 0.0005\n",
      "Episode 170\tScore: 0.0450\tAverage Score: 0.00105\n",
      "Episode 180\tScore: 0.2450\tAverage Score: 0.00655\n",
      "Episode 190\tScore: -0.0050\tAverage Score: 0.0075\n",
      "Episode 200\tScore: -0.0050\tAverage Score: 0.0080\n",
      "Episode 210\tScore: -0.0050\tAverage Score: 0.0095\n",
      "Episode 220\tScore: -0.0050\tAverage Score: 0.0115\n",
      "Episode 230\tScore: -0.0050\tAverage Score: 0.0125\n",
      "Episode 240\tScore: -0.0050\tAverage Score: 0.0135\n",
      "Episode 250\tScore: -0.0050\tAverage Score: 0.0125\n",
      "Episode 260\tScore: 0.0450\tAverage Score: 0.01500\n",
      "Episode 270\tScore: 0.0450\tAverage Score: 0.01655\n",
      "Episode 280\tScore: 0.0450\tAverage Score: 0.01550\n",
      "Episode 290\tScore: 0.0450\tAverage Score: 0.02005\n",
      "Episode 300\tScore: -0.0050\tAverage Score: 0.0230\n",
      "Episode 310\tScore: 0.0450\tAverage Score: 0.02555\n",
      "Episode 320\tScore: 0.0450\tAverage Score: 0.0285\n",
      "Episode 330\tScore: 0.0450\tAverage Score: 0.03005\n",
      "Episode 340\tScore: 0.0450\tAverage Score: 0.03300\n",
      "Episode 350\tScore: 0.0450\tAverage Score: 0.03605\n",
      "Episode 360\tScore: 0.0450\tAverage Score: 0.0385\n",
      "Episode 370\tScore: -0.0050\tAverage Score: 0.0405\n",
      "Episode 380\tScore: 0.0450\tAverage Score: 0.04055\n",
      "Episode 390\tScore: 0.0450\tAverage Score: 0.0400\n",
      "Episode 400\tScore: 0.1450\tAverage Score: 0.0435\n",
      "Episode 410\tScore: 0.0450\tAverage Score: 0.0455\n",
      "Episode 420\tScore: 0.0450\tAverage Score: 0.0470\n",
      "Episode 430\tScore: 0.0450\tAverage Score: 0.0490\n",
      "Episode 440\tScore: 0.0450\tAverage Score: 0.04855\n",
      "Episode 450\tScore: 2.6000\tAverage Score: 0.0971\n",
      "Episode 460\tScore: 0.1450\tAverage Score: 0.1236\n",
      "Episode 470\tScore: 0.1450\tAverage Score: 0.1411\n",
      "Episode 480\tScore: -0.0050\tAverage Score: 0.1471\n",
      "Episode 490\tScore: 0.0950\tAverage Score: 0.15661\n",
      "Episode 500\tScore: 0.1450\tAverage Score: 0.1911\n",
      "Episode 510\tScore: 0.1450\tAverage Score: 0.22322\n",
      "Episode 520\tScore: 2.5500\tAverage Score: 0.2928\n",
      "Episode 530\tScore: 2.6500\tAverage Score: 0.37398\n",
      "Episode 540\tScore: 0.0450\tAverage Score: 0.39549\n",
      "Episode 550\tScore: 0.1450\tAverage Score: 0.3904\n",
      "Episode 560\tScore: 0.1450\tAverage Score: 0.3940\n",
      "Episode 570\tScore: 0.1450\tAverage Score: 0.4070\n",
      "Episode 580\tScore: 0.1450\tAverage Score: 0.43211\n",
      "Episode 589\tScore: 2.6000\tAverage Score: 0.5142\n",
      "Environment solved in 489 episodes!\tAverage Score: 0.5142\n",
      "Episode 590\tScore: 2.6000\tAverage Score: 0.5393\n",
      "Episode 590\tScore: 2.6000\tAverage Score: 0.5393\n",
      "Environment solved in 490 episodes!\tAverage Score: 0.5393\n",
      "Episode 591\tScore: 0.1450\tAverage Score: 0.5393\n",
      "Environment solved in 491 episodes!\tAverage Score: 0.5393\n",
      "Episode 592\tScore: 0.2950\tAverage Score: 0.5162\n",
      "Environment solved in 492 episodes!\tAverage Score: 0.5162\n",
      "Episode 593\tScore: 2.6000\tAverage Score: 0.5368\n",
      "Environment solved in 493 episodes!\tAverage Score: 0.5368\n",
      "Episode 594\tScore: 2.6500\tAverage Score: 0.5618\n",
      "Environment solved in 494 episodes!\tAverage Score: 0.5618\n",
      "Episode 595\tScore: 0.0950\tAverage Score: 0.5623\n",
      "Environment solved in 495 episodes!\tAverage Score: 0.5623\n",
      "Episode 596\tScore: 0.0450\tAverage Score: 0.5618\n",
      "Environment solved in 496 episodes!\tAverage Score: 0.5618\n",
      "Episode 597\tScore: 0.0450\tAverage Score: 0.5613\n",
      "Environment solved in 497 episodes!\tAverage Score: 0.5613\n",
      "Episode 598\tScore: 0.1450\tAverage Score: 0.5613\n",
      "Environment solved in 498 episodes!\tAverage Score: 0.5613\n",
      "Episode 599\tScore: 0.1450\tAverage Score: 0.5613\n",
      "Environment solved in 499 episodes!\tAverage Score: 0.5613\n",
      "Episode 600\tScore: 0.1450\tAverage Score: 0.5613\n",
      "Episode 600\tScore: 0.1450\tAverage Score: 0.5613\n",
      "Environment solved in 500 episodes!\tAverage Score: 0.5613\n"
     ]
    },
    {
     "data": {
      "image/png": "[encoded data removed]",
      "text/plain": [
       "<matplotlib.figure.Figure at 0x7ff80cb82400>"
      ]
     },
     "metadata": {
      "needs_background": "light"
     },
     "output_type": "display_data"
    }
   ],
   "source": [
    "scores = ddpg()\n",
    "\n",
    "fig = plt.figure()\n",
    "ax = fig.add_subplot(111)\n",
    "plt.plot(np.arange(1, len(scores)+1), scores)\n",
    "plt.ylabel('Score')\n",
    "plt.xlabel('Episode #')\n",
    "plt.show()"
   ]
  }
 ],
 "metadata": {
  "kernelspec": {
   "display_name": "Python 3",
   "language": "python",
   "name": "python3"
  },
  "language_info": {
   "codemirror_mode": {
    "name": "ipython",
    "version": 3
   },
   "file_extension": ".py",
   "mimetype": "text/x-python",
   "name": "python",
   "nbconvert_exporter": "python",
   "pygments_lexer": "ipython3",
   "version": "3.6.3"
  }
 },
 "nbformat": 4,
 "nbformat_minor": 2
}
