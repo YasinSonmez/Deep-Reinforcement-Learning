{
 "cells": [
  {
   "cell_type": "markdown",
   "metadata": {},
   "source": [
    "# Continuous Control\n",
    "\n",
    "---\n",
    "\n",
    "You are welcome to use this coding environment to train your agent for the project.  Follow the instructions below to get started!\n",
    "\n",
    "### 1. Start the Environment\n",
    "\n",
    "Run the next code cell to install a few packages.  This line will take a few minutes to run!"
   ]
  },
  {
   "cell_type": "code",
   "execution_count": 1,
   "metadata": {},
   "outputs": [
    {
     "name": "stdout",
     "output_type": "stream",
     "text": [
      "\u001b[31mtensorflow 1.7.1 has requirement numpy>=1.13.3, but you'll have numpy 1.12.1 which is incompatible.\u001b[0m\r\n",
      "\u001b[31mipython 6.5.0 has requirement prompt-toolkit<2.0.0,>=1.0.15, but you'll have prompt-toolkit 3.0.5 which is incompatible.\u001b[0m\r\n"
     ]
    }
   ],
   "source": [
    "!pip -q install ./python"
   ]
  },
  {
   "cell_type": "markdown",
   "metadata": {},
   "source": [
    "The environments corresponding to both versions of the environment are already saved in the Workspace and can be accessed at the file paths provided below.  \n",
    "\n",
    "Please select one of the two options below for loading the environment."
   ]
  },
  {
   "cell_type": "code",
   "execution_count": 2,
   "metadata": {},
   "outputs": [
    {
     "name": "stderr",
     "output_type": "stream",
     "text": [
      "INFO:unityagents:\n",
      "'Academy' started successfully!\n",
      "Unity Academy name: Academy\n",
      "        Number of Brains: 1\n",
      "        Number of External Brains : 1\n",
      "        Lesson number : 0\n",
      "        Reset Parameters :\n",
      "\t\tgoal_speed -> 1.0\n",
      "\t\tgoal_size -> 5.0\n",
      "Unity brain name: ReacherBrain\n",
      "        Number of Visual Observations (per agent): 0\n",
      "        Vector Observation space type: continuous\n",
      "        Vector Observation space size (per agent): 33\n",
      "        Number of stacked Vector Observation: 1\n",
      "        Vector Action space type: continuous\n",
      "        Vector Action space size (per agent): 4\n",
      "        Vector Action descriptions: , , , \n"
     ]
    }
   ],
   "source": [
    "from unityagents import UnityEnvironment\n",
    "import numpy as np\n",
    "\n",
    "# select this option to load version 1 (with a single agent) of the environment\n",
    "#env = UnityEnvironment(file_name='/data/Reacher_One_Linux_NoVis/Reacher_One_Linux_NoVis.x86_64')\n",
    "\n",
    "# select this option to load version 2 (with 20 agents) of the environment\n",
    "env = UnityEnvironment(file_name='/data/Reacher_Linux_NoVis/Reacher.x86_64')"
   ]
  },
  {
   "cell_type": "markdown",
   "metadata": {},
   "source": [
    "Environments contain **_brains_** which are responsible for deciding the actions of their associated agents. Here we check for the first brain available, and set it as the default brain we will be controlling from Python."
   ]
  },
  {
   "cell_type": "code",
   "execution_count": 3,
   "metadata": {},
   "outputs": [],
   "source": [
    "# get the default brain\n",
    "brain_name = env.brain_names[0]\n",
    "brain = env.brains[brain_name]"
   ]
  },
  {
   "cell_type": "markdown",
   "metadata": {},
   "source": [
    "### 2. Examine the State and Action Spaces\n",
    "\n",
    "Run the code cell below to print some information about the environment."
   ]
  },
  {
   "cell_type": "code",
   "execution_count": 4,
   "metadata": {},
   "outputs": [
    {
     "name": "stdout",
     "output_type": "stream",
     "text": [
      "Number of agents: 20\n",
      "Size of each action: 4\n",
      "There are 20 agents. Each observes a state with length: 33\n",
      "The state for the first agent looks like: [  0.00000000e+00  -4.00000000e+00   0.00000000e+00   1.00000000e+00\n",
      "  -0.00000000e+00  -0.00000000e+00  -4.37113883e-08   0.00000000e+00\n",
      "   0.00000000e+00   0.00000000e+00   0.00000000e+00   0.00000000e+00\n",
      "   0.00000000e+00   0.00000000e+00  -1.00000000e+01   0.00000000e+00\n",
      "   1.00000000e+00  -0.00000000e+00  -0.00000000e+00  -4.37113883e-08\n",
      "   0.00000000e+00   0.00000000e+00   0.00000000e+00   0.00000000e+00\n",
      "   0.00000000e+00   0.00000000e+00   5.75471878e+00  -1.00000000e+00\n",
      "   5.55726624e+00   0.00000000e+00   1.00000000e+00   0.00000000e+00\n",
      "  -1.68164849e-01]\n"
     ]
    }
   ],
   "source": [
    "# reset the environment\n",
    "env_info = env.reset(train_mode=True)[brain_name]\n",
    "\n",
    "# number of agents\n",
    "num_agents = len(env_info.agents)\n",
    "print('Number of agents:', num_agents)\n",
    "\n",
    "# size of each action\n",
    "action_size = brain.vector_action_space_size\n",
    "print('Size of each action:', action_size)\n",
    "\n",
    "# examine the state space \n",
    "states = env_info.vector_observations\n",
    "state_size = states.shape[1]\n",
    "print('There are {} agents. Each observes a state with length: {}'.format(states.shape[0], state_size))\n",
    "print('The state for the first agent looks like:', states[0])"
   ]
  },
  {
   "cell_type": "markdown",
   "metadata": {},
   "source": [
    "### 3. Take Random Actions in the Environment\n",
    "\n",
    "In the next code cell, you will learn how to use the Python API to control the agent and receive feedback from the environment.\n",
    "\n",
    "Note that **in this coding environment, you will not be able to watch the agents while they are training**, and you should set `train_mode=True` to restart the environment."
   ]
  },
  {
   "cell_type": "code",
   "execution_count": null,
   "metadata": {},
   "outputs": [],
   "source": [
    "env_info = env.reset(train_mode=True)[brain_name]      # reset the environment    \n",
    "states = env_info.vector_observations                  # get the current state (for each agent)\n",
    "scores = np.zeros(num_agents)                          # initialize the score (for each agent)\n",
    "while True:\n",
    "    actions = np.random.randn(num_agents, action_size) # select an action (for each agent)\n",
    "    actions = np.clip(actions, -1, 1)                  # all actions between -1 and 1\n",
    "    env_info = env.step(actions)[brain_name]           # send all actions to tne environment\n",
    "    next_states = env_info.vector_observations         # get next state (for each agent)\n",
    "    rewards = env_info.rewards                         # get reward (for each agent)\n",
    "    dones = env_info.local_done                        # see if episode finished\n",
    "    scores += env_info.rewards                         # update the score (for each agent)\n",
    "    states = next_states                               # roll over states to next time step\n",
    "    if np.any(dones):                                  # exit loop if episode finished\n",
    "        break\n",
    "print('Total score (averaged over agents) this episode: {}'.format(np.mean(scores)))"
   ]
  },
  {
   "cell_type": "markdown",
   "metadata": {},
   "source": [
    "When finished, you can close the environment."
   ]
  },
  {
   "cell_type": "code",
   "execution_count": null,
   "metadata": {},
   "outputs": [],
   "source": [
    "env.close()"
   ]
  },
  {
   "cell_type": "markdown",
   "metadata": {},
   "source": [
    "### 4. It's Your Turn!\n",
    "\n",
    "Now it's your turn to train your own agent to solve the environment!  A few **important notes**:\n",
    "- When training the environment, set `train_mode=True`, so that the line for resetting the environment looks like the following:\n",
    "```python\n",
    "env_info = env.reset(train_mode=True)[brain_name]\n",
    "```\n",
    "- To structure your work, you're welcome to work directly in this Jupyter notebook, or you might like to start over with a new file!  You can see the list of files in the workspace by clicking on **_Jupyter_** in the top left corner of the notebook.\n",
    "- In this coding environment, you will not be able to watch the agents while they are training.  However, **_after training the agents_**, you can download the saved model weights to watch the agents on your own machine! "
   ]
  },
  {
   "cell_type": "code",
   "execution_count": 5,
   "metadata": {},
   "outputs": [],
   "source": [
    "from collections import deque\n",
    "import torch\n",
    "import matplotlib.pyplot as plt\n",
    "%matplotlib inline\n",
    "\n",
    "from ddpg_agent import Agent"
   ]
  },
  {
   "cell_type": "code",
   "execution_count": 6,
   "metadata": {},
   "outputs": [],
   "source": [
    "agent = Agent(state_size, action_size, random_seed = 2312)"
   ]
  },
  {
   "cell_type": "code",
   "execution_count": null,
   "metadata": {},
   "outputs": [],
   "source": [
    "# watch an untrained agent\n",
    "env_info = env.reset(train_mode=False)[brain_name] # reset the environment\n",
    "states = env_info.vector_observations              # get the current state (for each agent)\n",
    "scores = np.zeros(num_agents)                      # initialize the score (for each agent)\n",
    "while True:\n",
    "    actions = agent.act(states)\n",
    "    env_info = env.step(actions)[brain_name]        # send the action to the environment\n",
    "    next_states = env_info.vector_observations      # get the next state\n",
    "    rewards = env_info.rewards                   # get the reward\n",
    "    dones = env_info.local_done                  # see if episode has finished\n",
    "    \n",
    "    for state, action, reward, next_state, done in zip(states, actions, rewards, next_states, dones):\n",
    "        agent.step(state, action, reward, next_state, done)\n",
    "        \n",
    "    states = next_states                             # roll over the state to next time step\n",
    "    scores += rewards                                # update the score\n",
    "    \n",
    "    if np.any(dones):                                       # exit loop if episode finished\n",
    "        break\n",
    "    \n",
    "print(\"Score: {}\".format(scores))"
   ]
  },
  {
   "cell_type": "code",
   "execution_count": 7,
   "metadata": {},
   "outputs": [],
   "source": [
    "def ddpg(n_episodes=100, max_t=1000,print_every=1):\n",
    "    \n",
    "    scores_window = deque(maxlen=100)\n",
    "    mean_scores = []\n",
    "    max_score = -np.Inf\n",
    "    \n",
    "    for i_episode in range(1, n_episodes+1):\n",
    "        env_info = env.reset(train_mode=True)[brain_name]      # reset the environment   \n",
    "        states = env_info.vector_observations    # get current state for each observations\n",
    "        scores = np.zeros(num_agents) # initialize score for each agent\n",
    "        \n",
    "        agent.reset()\n",
    "        \n",
    "        for t in range(max_t):\n",
    "            actions = agent.act(states)\n",
    "            env_info = env.step(actions)[brain_name]        # send the action to the environment\n",
    "            next_states = env_info.vector_observations      # get the next state\n",
    "            rewards = env_info.rewards                   # get the reward\n",
    "            dones = env_info.local_done                  # see if episode has finished\n",
    "            \n",
    " \n",
    "            for state, action, reward, next_state, done in zip(states, actions, rewards, next_states, dones):\n",
    "                agent.step(state, action, reward, next_state, done,t)\n",
    "        \n",
    "            states = next_states                             # roll over the state to next time step\n",
    "            scores += rewards                                # update the score\n",
    "    \n",
    "            if np.any(dones):                                       # exit loop if episode finished\n",
    "                break\n",
    "        mean_scores.append(np.mean(scores)) # save mean score for each episode\n",
    "        scores_window.append(mean_scores[-1]) # save mean score to window\n",
    "        \n",
    "        print('\\rEpisode {}\\tScore: {:.2f}\\tAverage Score: {:.2f}'.format(i_episode,np.mean(scores), np.mean(scores_window)), end=\"\")\n",
    "        if i_episode % print_every == 0:\n",
    "            print('\\nEpisode {}\\tScore: {:.2f}\\tAverage Score: {:.2f}'.format(i_episode,np.mean(scores), np.mean(scores_window)), end=\"\")\n",
    "        if np.mean(scores_window)>=35:\n",
    "            print('\\nEnvironment solved in {:d} episodes!\\tAverage Score: {:.2f}'.format(i_episode-100, np.mean(scores_window)))\n",
    "            torch.save(agent.actor_local.state_dict(), 'actor_checkpoint.pth')\n",
    "            torch.save(agent.critic_local.state_dict(), 'critic_checkpoint.pth')         \n",
    "            \n",
    "    return mean_scores"
   ]
  },
  {
   "cell_type": "code",
   "execution_count": 8,
   "metadata": {},
   "outputs": [
    {
     "name": "stdout",
     "output_type": "stream",
     "text": [
      "Episode 1\tScore: 0.68\tAverage Score: 0.68\n",
      "Episode 2\tScore: 1.59\tAverage Score: 1.14\n",
      "Episode 3\tScore: 2.62\tAverage Score: 1.63\n",
      "Episode 4\tScore: 4.45\tAverage Score: 2.34\n",
      "Episode 5\tScore: 7.10\tAverage Score: 3.29\n",
      "Episode 6\tScore: 6.83\tAverage Score: 3.88\n",
      "Episode 7\tScore: 9.87\tAverage Score: 4.74\n",
      "Episode 8\tScore: 12.31\tAverage Score: 5.68\n",
      "Episode 9\tScore: 15.72\tAverage Score: 6.80\n",
      "Episode 10\tScore: 17.63\tAverage Score: 7.88\n",
      "Episode 11\tScore: 17.53\tAverage Score: 8.76\n",
      "Episode 12\tScore: 20.22\tAverage Score: 9.71\n",
      "Episode 13\tScore: 23.58\tAverage Score: 10.78\n",
      "Episode 14\tScore: 26.68\tAverage Score: 11.92\n",
      "Episode 15\tScore: 28.66\tAverage Score: 13.03\n",
      "Episode 16\tScore: 30.73\tAverage Score: 14.14\n",
      "Episode 17\tScore: 34.32\tAverage Score: 15.33\n",
      "Episode 18\tScore: 35.34\tAverage Score: 16.44\n",
      "Episode 19\tScore: 37.15\tAverage Score: 17.53\n",
      "Episode 20\tScore: 37.22\tAverage Score: 18.51\n",
      "Episode 21\tScore: 36.59\tAverage Score: 19.37\n",
      "Episode 22\tScore: 36.78\tAverage Score: 20.16\n",
      "Episode 23\tScore: 35.54\tAverage Score: 20.83\n",
      "Episode 24\tScore: 36.64\tAverage Score: 21.49\n",
      "Episode 25\tScore: 36.96\tAverage Score: 22.11\n",
      "Episode 26\tScore: 36.66\tAverage Score: 22.67\n",
      "Episode 27\tScore: 36.84\tAverage Score: 23.19\n",
      "Episode 28\tScore: 36.97\tAverage Score: 23.69\n",
      "Episode 29\tScore: 38.36\tAverage Score: 24.19\n",
      "Episode 30\tScore: 36.99\tAverage Score: 24.62\n",
      "Episode 31\tScore: 37.66\tAverage Score: 25.04\n",
      "Episode 32\tScore: 38.06\tAverage Score: 25.45\n",
      "Episode 33\tScore: 37.28\tAverage Score: 25.80\n",
      "Episode 34\tScore: 37.51\tAverage Score: 26.15\n",
      "Episode 35\tScore: 37.26\tAverage Score: 26.47\n",
      "Episode 36\tScore: 38.18\tAverage Score: 26.79\n",
      "Episode 37\tScore: 37.75\tAverage Score: 27.09\n",
      "Episode 38\tScore: 37.77\tAverage Score: 27.37\n",
      "Episode 39\tScore: 37.76\tAverage Score: 27.64\n",
      "Episode 40\tScore: 37.28\tAverage Score: 27.88\n",
      "Episode 41\tScore: 37.31\tAverage Score: 28.11\n",
      "Episode 42\tScore: 36.34\tAverage Score: 28.30\n",
      "Episode 43\tScore: 36.34\tAverage Score: 28.49\n",
      "Episode 44\tScore: 37.37\tAverage Score: 28.69\n",
      "Episode 45\tScore: 37.15\tAverage Score: 28.88\n",
      "Episode 46\tScore: 37.38\tAverage Score: 29.06\n",
      "Episode 47\tScore: 36.93\tAverage Score: 29.23\n",
      "Episode 48\tScore: 37.08\tAverage Score: 29.40\n",
      "Episode 49\tScore: 37.41\tAverage Score: 29.56\n",
      "Episode 50\tScore: 37.94\tAverage Score: 29.73\n",
      "Episode 51\tScore: 37.93\tAverage Score: 29.89\n",
      "Episode 52\tScore: 38.28\tAverage Score: 30.05\n",
      "Episode 53\tScore: 39.04\tAverage Score: 30.22\n",
      "Episode 54\tScore: 38.73\tAverage Score: 30.38\n",
      "Episode 55\tScore: 38.70\tAverage Score: 30.53\n",
      "Episode 56\tScore: 38.11\tAverage Score: 30.66\n",
      "Episode 57\tScore: 38.23\tAverage Score: 30.80\n",
      "Episode 58\tScore: 38.34\tAverage Score: 30.93\n",
      "Episode 59\tScore: 38.79\tAverage Score: 31.06\n",
      "Episode 60\tScore: 38.63\tAverage Score: 31.19\n",
      "Episode 61\tScore: 38.60\tAverage Score: 31.31\n",
      "Episode 62\tScore: 37.48\tAverage Score: 31.41\n",
      "Episode 63\tScore: 37.48\tAverage Score: 31.50\n",
      "Episode 64\tScore: 38.09\tAverage Score: 31.61\n",
      "Episode 65\tScore: 37.17\tAverage Score: 31.69\n",
      "Episode 66\tScore: 36.70\tAverage Score: 31.77\n",
      "Episode 67\tScore: 35.85\tAverage Score: 31.83\n",
      "Episode 68\tScore: 35.73\tAverage Score: 31.89\n",
      "Episode 69\tScore: 37.03\tAverage Score: 31.96\n",
      "Episode 70\tScore: 36.27\tAverage Score: 32.02\n",
      "Episode 71\tScore: 36.34\tAverage Score: 32.08\n",
      "Episode 72\tScore: 36.98\tAverage Score: 32.15\n",
      "Episode 73\tScore: 36.24\tAverage Score: 32.21\n",
      "Episode 74\tScore: 36.44\tAverage Score: 32.26\n",
      "Episode 75\tScore: 32.98\tAverage Score: 32.27\n",
      "Episode 76\tScore: 34.70\tAverage Score: 32.31\n",
      "Episode 77\tScore: 36.77\tAverage Score: 32.36\n",
      "Episode 78\tScore: 36.83\tAverage Score: 32.42\n",
      "Episode 79\tScore: 37.25\tAverage Score: 32.48\n",
      "Episode 80\tScore: 38.00\tAverage Score: 32.55\n",
      "Episode 81\tScore: 36.92\tAverage Score: 32.60\n",
      "Episode 82\tScore: 37.86\tAverage Score: 32.67\n",
      "Episode 83\tScore: 37.51\tAverage Score: 32.73\n",
      "Episode 84\tScore: 36.77\tAverage Score: 32.78\n",
      "Episode 85\tScore: 36.57\tAverage Score: 32.82\n",
      "Episode 86\tScore: 37.16\tAverage Score: 32.87\n",
      "Episode 87\tScore: 37.84\tAverage Score: 32.93\n",
      "Episode 88\tScore: 37.46\tAverage Score: 32.98\n",
      "Episode 89\tScore: 37.60\tAverage Score: 33.03\n",
      "Episode 90\tScore: 37.52\tAverage Score: 33.08\n",
      "Episode 91\tScore: 37.88\tAverage Score: 33.13\n",
      "Episode 92\tScore: 38.49\tAverage Score: 33.19\n",
      "Episode 93\tScore: 37.43\tAverage Score: 33.24\n",
      "Episode 94\tScore: 37.13\tAverage Score: 33.28\n",
      "Episode 95\tScore: 36.92\tAverage Score: 33.32\n",
      "Episode 96\tScore: 36.70\tAverage Score: 33.35\n",
      "Episode 97\tScore: 37.36\tAverage Score: 33.39\n",
      "Episode 98\tScore: 38.38\tAverage Score: 33.44\n",
      "Episode 99\tScore: 38.27\tAverage Score: 33.49\n",
      "Episode 100\tScore: 37.94\tAverage Score: 33.54\n",
      "Episode 100\tScore: 37.94\tAverage Score: 33.54"
     ]
    },
    {
     "data": {
      "image/png": "[encoded data removed]",
      "text/plain": [
       "<matplotlib.figure.Figure at 0x7f8236399470>"
      ]
     },
     "metadata": {
      "needs_background": "light"
     },
     "output_type": "display_data"
    }
   ],
   "source": [
    "scores = ddpg()\n",
    "\n",
    "fig = plt.figure()\n",
    "ax = fig.add_subplot(111)\n",
    "plt.plot(np.arange(1, len(scores)+1), scores)\n",
    "plt.ylabel('Score')\n",
    "plt.xlabel('Episode #')\n",
    "plt.show()"
   ]
  },
  {
   "cell_type": "code",
   "execution_count": 12,
   "metadata": {},
   "outputs": [
    {
     "data": {
      "image/png": "[encoded data removed]",
      "text/plain": [
       "<matplotlib.figure.Figure at 0x7f81da3d98d0>"
      ]
     },
     "metadata": {
      "needs_background": "light"
     },
     "output_type": "display_data"
    }
   ],
   "source": [
    "mean_scores = [0.68,1.14,1.63,2.34,3.29, 3.88,4.74,5.68,6.80,7.88,8.76,9.71,10.78,11.92,13.03,14.14,15.33,16.44,17.53,18.51,19.37,20.16,20.83,21.49,22.11,22.67,23.19,23.69,24.19,24.62,25.04,25.45,25.80,26.15,26.47,26.79,27.09,27.37,27.64,27.88,28.11,28.30,28.49,28.69,28.88,29.06,29.23,29.40,29.56,29.73,29.89,30.05,30.22,30.38,30.53,30.66,30.80,30.93,31.06,31.19,31.31,31.41,31.50,31.61,31.69,31.77,31.83,31.89,31.96,32.02,32.08,32.15,32.21,32.26,32.27,32.31,32.36,32.42,32.48,32.55,32.60,32.67,32.73,32.78,32.82,32.87,32.93,32.98,33.03,33.08,33.13,33.19,33.24,33.28,33.32,33.35,33.39,33.44,33.49,33.54]\n",
    "\n",
    "\n",
    "fig = plt.figure()\n",
    "ax = fig.add_subplot(111)\n",
    "plt.plot(np.arange(1, len(mean_scores)+1), mean_scores)\n",
    "plt.ylabel('Score')\n",
    "plt.xlabel('Episode #')\n",
    "plt.show()"
   ]
  },
  {
   "cell_type": "code",
   "execution_count": null,
   "metadata": {},
   "outputs": [],
   "source": []
  }
 ],
 "metadata": {
  "kernelspec": {
   "display_name": "Python 3",
   "language": "python",
   "name": "python3"
  },
  "language_info": {
   "codemirror_mode": {
    "name": "ipython",
    "version": 3
   },
   "file_extension": ".py",
   "mimetype": "text/x-python",
   "name": "python",
   "nbconvert_exporter": "python",
   "pygments_lexer": "ipython3",
   "version": "3.6.3"
  }
 },
 "nbformat": 4,
 "nbformat_minor": 2
}
